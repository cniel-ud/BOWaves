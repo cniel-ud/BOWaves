{
 "cells": [
  {
   "cell_type": "markdown",
   "source": [
    "This notebook is for testing Convolutional Monge Mapping Normalization (hereafter, CMMN) - (put link here).\n",
    "\n",
    "The goal is that this will improve the performance of the clf we've trained on the emotion dataset when applied to the cue dataset, even though the confusion matrix won't line up perfectly (rectangular, with slightly different classes).\n",
    "\n",
    "An outline of how this works:\n",
    "1. Load all emotion dataset, and chunk it into 30 second intervals (note - time increment doesn't matter, as long as it's consistent. But I'll stick with what they chose in their demo for now).\n",
    "2. Load all cue dataset, and chunk it into 30 second intervals.\n",
    "3. Fit the CMMN to the emotion dataset, then transform the cue dataset.\n",
    "4. Reconstruct the cue dataset into its original form of ICs per subj.\n",
    "5. Use the emotion clf on the cue dataset, take conf matrix.\n",
    "5a. Additionally, take PSD and count vectors of cue before and after CMMN."
   ],
   "metadata": {
    "collapsed": false
   },
   "id": "e3dab3cc77442777"
  },
  {
   "cell_type": "markdown",
   "source": [
    "A note on imports - \n",
    "CMMN is hosted by the authors on a github repo. As far as I can tell, it's not set up to be installed with pip or other package managers.\n",
    "So clone the repo in your IDE, and then just branch up and come down into the other directory to import the cmmn module.\n",
    "It may also be easier to use absolute imports, as I've done here, although this isn't best practice - I'll fix it later."
   ],
   "metadata": {
    "collapsed": false
   },
   "id": "47974e814d000742"
  },
  {
   "cell_type": "code",
   "outputs": [],
   "source": [
    "#imports\n",
    "from BOWaves.utilities.dataloaders import load_codebooks, load_raw_set, load_raw_set_single_subj\n",
    "from BOWaves.bowav.bowav_feature_extractor import bag_of_waves\n",
    "import BOWaves.utilities.dataloaders as dataloaders\n",
    "from BOWaves.sikmeans.sikmeans_core import shift_invariant_k_means, _assignment_step\n",
    "\n",
    "import scipy\n",
    "from numpy.random import default_rng\n",
    "import numpy as np\n",
    "from pathlib import Path\n",
    "from scipy.io import loadmat\n",
    "from scipy.signal import butter, sosfilt\n",
    "\n",
    "#import cmmn api from their git repo\n",
    "from "
   ],
   "metadata": {
    "collapsed": false
   },
   "id": "b3fbc2404aac5696"
  },
  {
   "cell_type": "markdown",
   "source": [
    "Change of plans - just do the data transformation in a fork of their repo. Do everything with BOWaves here. Just have same data on the desktop."
   ],
   "metadata": {
    "collapsed": false
   },
   "id": "9924b4cdc2a85d9c"
  }
 ],
 "metadata": {
  "kernelspec": {
   "display_name": "Python 3",
   "language": "python",
   "name": "python3"
  },
  "language_info": {
   "codemirror_mode": {
    "name": "ipython",
    "version": 2
   },
   "file_extension": ".py",
   "mimetype": "text/x-python",
   "name": "python",
   "nbconvert_exporter": "python",
   "pygments_lexer": "ipython2",
   "version": "2.7.6"
  }
 },
 "nbformat": 4,
 "nbformat_minor": 5
}
